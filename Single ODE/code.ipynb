{
 "cells": [
  {
   "cell_type": "code",
   "execution_count": 2,
   "id": "750cfb72",
   "metadata": {},
   "outputs": [
    {
     "name": "stdout",
     "output_type": "stream",
     "text": [
      "WARNING:tensorflow:From d:\\anaconda3\\Lib\\site-packages\\keras\\src\\losses.py:2976: The name tf.losses.sparse_softmax_cross_entropy is deprecated. Please use tf.compat.v1.losses.sparse_softmax_cross_entropy instead.\n",
      "\n"
     ]
    }
   ],
   "source": [
    "import numpy as np\n",
    "import pandas as pd\n",
    "import matplotlib.pyplot as plt\n",
    "from sklearn.metrics import root_mean_squared_error\n",
    "from sklearn.model_selection import train_test_split\n",
    "import tensorflow as tf\n",
    "from tensorflow.keras.models import Sequential # type: ignore\n",
    "from tensorflow.keras.layers import Dense # type: ignore\n",
    "from tensorflow.keras.activations import linear, relu, sigmoid # type: ignore"
   ]
  },
  {
   "cell_type": "code",
   "execution_count": 3,
   "id": "95ced86b",
   "metadata": {},
   "outputs": [
    {
     "data": {
      "text/plain": [
       "(1000, 301)"
      ]
     },
     "execution_count": 3,
     "metadata": {},
     "output_type": "execute_result"
    }
   ],
   "source": [
    "data = pd.read_excel(\"simulated_data1.xlsx\")\n",
    "data.shape"
   ]
  },
  {
   "cell_type": "code",
   "execution_count": 4,
   "id": "13cfd63d",
   "metadata": {},
   "outputs": [
    {
     "name": "stdout",
     "output_type": "stream",
     "text": [
      "(1000, 300)\n",
      "(1000,)\n"
     ]
    }
   ],
   "source": [
    "X = data.iloc[:, :300]\n",
    "y = data.iloc[:, 300]\n",
    "print(X.shape)\n",
    "print(y.shape)"
   ]
  },
  {
   "cell_type": "code",
   "execution_count": 5,
   "id": "8893cf72",
   "metadata": {},
   "outputs": [
    {
     "name": "stdout",
     "output_type": "stream",
     "text": [
      "(700, 300) (300, 300)\n",
      "(700,) (300,)\n"
     ]
    }
   ],
   "source": [
    "X_train, X_test, y_train, y_test = train_test_split(X, y, test_size=0.3, random_state=0)\n",
    "print(X_train.shape, X_test.shape)\n",
    "print(y_train.shape, y_test.shape)"
   ]
  },
  {
   "cell_type": "code",
   "execution_count": 46,
   "id": "d27b4110",
   "metadata": {},
   "outputs": [],
   "source": [
    "tf.random.set_seed(1)\n",
    "model = Sequential(\n",
    "    [\n",
    "        tf.keras.layers.InputLayer((300,)),\n",
    "        tf.keras.layers.Dense(40, activation=\"relu\", name=\"L1\"),\n",
    "        tf.keras.layers.Dense(25, activation=\"relu\", name=\"L2\"),\n",
    "        tf.keras.layers.Dense(15, activation=\"relu\", name=\"L3\"),\n",
    "        tf.keras.layers.Dense(1, activation=\"linear\", name=\"L4\")\n",
    "    ]\n",
    ")\n",
    "model.compile(optimizer='adam', loss='mse') "
   ]
  },
  {
   "cell_type": "code",
   "execution_count": 47,
   "id": "194845ab",
   "metadata": {},
   "outputs": [
    {
     "name": "stdout",
     "output_type": "stream",
     "text": [
      "Model: \"sequential_4\"\n",
      "_________________________________________________________________\n",
      " Layer (type)                Output Shape              Param #   \n",
      "=================================================================\n",
      " L1 (Dense)                  (None, 40)                12040     \n",
      "                                                                 \n",
      " L2 (Dense)                  (None, 25)                1025      \n",
      "                                                                 \n",
      " L3 (Dense)                  (None, 15)                390       \n",
      "                                                                 \n",
      " L4 (Dense)                  (None, 1)                 16        \n",
      "                                                                 \n",
      "=================================================================\n",
      "Total params: 13471 (52.62 KB)\n",
      "Trainable params: 13471 (52.62 KB)\n",
      "Non-trainable params: 0 (0.00 Byte)\n",
      "_________________________________________________________________\n"
     ]
    }
   ],
   "source": [
    "model.summary()"
   ]
  },
  {
   "cell_type": "code",
   "execution_count": 48,
   "id": "e77512d5",
   "metadata": {},
   "outputs": [
    {
     "name": "stdout",
     "output_type": "stream",
     "text": [
      "Epoch 1/50\n",
      "22/22 [==============================] - 1s 3ms/step - loss: 3417.8853\n",
      "Epoch 2/50\n",
      "22/22 [==============================] - 0s 3ms/step - loss: 8.6008\n",
      "Epoch 3/50\n",
      "22/22 [==============================] - 0s 3ms/step - loss: 2.9873\n",
      "Epoch 4/50\n",
      "22/22 [==============================] - 0s 2ms/step - loss: 1.3155\n",
      "Epoch 5/50\n",
      "22/22 [==============================] - 0s 3ms/step - loss: 0.8607\n",
      "Epoch 6/50\n",
      "22/22 [==============================] - 0s 2ms/step - loss: 0.7766\n",
      "Epoch 7/50\n",
      "22/22 [==============================] - 0s 2ms/step - loss: 0.7370\n",
      "Epoch 8/50\n",
      "22/22 [==============================] - 0s 2ms/step - loss: 0.4975\n",
      "Epoch 9/50\n",
      "22/22 [==============================] - 0s 3ms/step - loss: 1.0174\n",
      "Epoch 10/50\n",
      "22/22 [==============================] - 0s 2ms/step - loss: 0.4814\n",
      "Epoch 11/50\n",
      "22/22 [==============================] - 0s 2ms/step - loss: 0.0954\n",
      "Epoch 12/50\n",
      "22/22 [==============================] - 0s 3ms/step - loss: 0.0821\n",
      "Epoch 13/50\n",
      "22/22 [==============================] - 0s 3ms/step - loss: 0.0502\n",
      "Epoch 14/50\n",
      "22/22 [==============================] - 0s 3ms/step - loss: 0.0415\n",
      "Epoch 15/50\n",
      "22/22 [==============================] - 0s 2ms/step - loss: 0.0342\n",
      "Epoch 16/50\n",
      "22/22 [==============================] - 0s 2ms/step - loss: 0.0341\n",
      "Epoch 17/50\n",
      "22/22 [==============================] - 0s 2ms/step - loss: 0.0192\n",
      "Epoch 18/50\n",
      "22/22 [==============================] - 0s 2ms/step - loss: 0.0204\n",
      "Epoch 19/50\n",
      "22/22 [==============================] - 0s 2ms/step - loss: 0.0227\n",
      "Epoch 20/50\n",
      "22/22 [==============================] - 0s 2ms/step - loss: 0.0118\n",
      "Epoch 21/50\n",
      "22/22 [==============================] - 0s 2ms/step - loss: 0.0115\n",
      "Epoch 22/50\n",
      "22/22 [==============================] - 0s 2ms/step - loss: 0.0124\n",
      "Epoch 23/50\n",
      "22/22 [==============================] - 0s 2ms/step - loss: 0.0197\n",
      "Epoch 24/50\n",
      "22/22 [==============================] - 0s 3ms/step - loss: 0.0285\n",
      "Epoch 25/50\n",
      "22/22 [==============================] - 0s 3ms/step - loss: 0.1656\n",
      "Epoch 26/50\n",
      "22/22 [==============================] - 0s 3ms/step - loss: 0.0143\n",
      "Epoch 27/50\n",
      "22/22 [==============================] - 0s 2ms/step - loss: 0.0367\n",
      "Epoch 28/50\n",
      "22/22 [==============================] - 0s 2ms/step - loss: 0.1505\n",
      "Epoch 29/50\n",
      "22/22 [==============================] - 0s 3ms/step - loss: 1.0268\n",
      "Epoch 30/50\n",
      "22/22 [==============================] - 0s 2ms/step - loss: 4.2019\n",
      "Epoch 31/50\n",
      "22/22 [==============================] - 0s 2ms/step - loss: 2.0729\n",
      "Epoch 32/50\n",
      "22/22 [==============================] - 0s 2ms/step - loss: 6.2059\n",
      "Epoch 33/50\n",
      "22/22 [==============================] - 0s 2ms/step - loss: 13.3042\n",
      "Epoch 34/50\n",
      "22/22 [==============================] - 0s 2ms/step - loss: 6.5512\n",
      "Epoch 35/50\n",
      "22/22 [==============================] - 0s 2ms/step - loss: 5.5452\n",
      "Epoch 36/50\n",
      "22/22 [==============================] - 0s 2ms/step - loss: 8.6661\n",
      "Epoch 37/50\n",
      "22/22 [==============================] - 0s 2ms/step - loss: 2.4676\n",
      "Epoch 38/50\n",
      "22/22 [==============================] - 0s 2ms/step - loss: 0.9364\n",
      "Epoch 39/50\n",
      "22/22 [==============================] - 0s 2ms/step - loss: 0.2185\n",
      "Epoch 40/50\n",
      "22/22 [==============================] - 0s 2ms/step - loss: 0.1908\n",
      "Epoch 41/50\n",
      "22/22 [==============================] - 0s 2ms/step - loss: 0.1367\n",
      "Epoch 42/50\n",
      "22/22 [==============================] - 0s 2ms/step - loss: 0.0293\n",
      "Epoch 43/50\n",
      "22/22 [==============================] - 0s 2ms/step - loss: 0.0083\n",
      "Epoch 44/50\n",
      "22/22 [==============================] - 0s 2ms/step - loss: 0.0040\n",
      "Epoch 45/50\n",
      "22/22 [==============================] - 0s 2ms/step - loss: 0.0032\n",
      "Epoch 46/50\n",
      "22/22 [==============================] - 0s 2ms/step - loss: 0.0028\n",
      "Epoch 47/50\n",
      "22/22 [==============================] - 0s 2ms/step - loss: 0.0027\n",
      "Epoch 48/50\n",
      "22/22 [==============================] - 0s 2ms/step - loss: 0.0025\n",
      "Epoch 49/50\n",
      "22/22 [==============================] - 0s 2ms/step - loss: 0.0025\n",
      "Epoch 50/50\n",
      "22/22 [==============================] - 0s 2ms/step - loss: 0.0023\n"
     ]
    }
   ],
   "source": [
    "history = model.fit(X_train, y_train, epochs=50)"
   ]
  },
  {
   "cell_type": "code",
   "execution_count": 49,
   "id": "f0d3a82d",
   "metadata": {},
   "outputs": [
    {
     "name": "stdout",
     "output_type": "stream",
     "text": [
      "22/22 [==============================] - 0s 2ms/step\n"
     ]
    },
    {
     "data": {
      "text/html": [
       "<div>\n",
       "<style scoped>\n",
       "    .dataframe tbody tr th:only-of-type {\n",
       "        vertical-align: middle;\n",
       "    }\n",
       "\n",
       "    .dataframe tbody tr th {\n",
       "        vertical-align: top;\n",
       "    }\n",
       "\n",
       "    .dataframe thead th {\n",
       "        text-align: right;\n",
       "    }\n",
       "</style>\n",
       "<table border=\"1\" class=\"dataframe\">\n",
       "  <thead>\n",
       "    <tr style=\"text-align: right;\">\n",
       "      <th></th>\n",
       "      <th>yhat</th>\n",
       "      <th>y</th>\n",
       "    </tr>\n",
       "  </thead>\n",
       "  <tbody>\n",
       "    <tr>\n",
       "      <th>105</th>\n",
       "      <td>-0.567481</td>\n",
       "      <td>-0.569472</td>\n",
       "    </tr>\n",
       "    <tr>\n",
       "      <th>68</th>\n",
       "      <td>-0.297046</td>\n",
       "      <td>-0.300194</td>\n",
       "    </tr>\n",
       "    <tr>\n",
       "      <th>479</th>\n",
       "      <td>-0.991102</td>\n",
       "      <td>-0.991262</td>\n",
       "    </tr>\n",
       "    <tr>\n",
       "      <th>399</th>\n",
       "      <td>1.074916</td>\n",
       "      <td>1.079546</td>\n",
       "    </tr>\n",
       "    <tr>\n",
       "      <th>434</th>\n",
       "      <td>0.480527</td>\n",
       "      <td>0.479785</td>\n",
       "    </tr>\n",
       "    <tr>\n",
       "      <th>...</th>\n",
       "      <td>...</td>\n",
       "      <td>...</td>\n",
       "    </tr>\n",
       "    <tr>\n",
       "      <th>835</th>\n",
       "      <td>-0.206587</td>\n",
       "      <td>-0.210131</td>\n",
       "    </tr>\n",
       "    <tr>\n",
       "      <th>192</th>\n",
       "      <td>1.077789</td>\n",
       "      <td>1.082407</td>\n",
       "    </tr>\n",
       "    <tr>\n",
       "      <th>629</th>\n",
       "      <td>1.432151</td>\n",
       "      <td>1.439324</td>\n",
       "    </tr>\n",
       "    <tr>\n",
       "      <th>559</th>\n",
       "      <td>0.294727</td>\n",
       "      <td>0.291984</td>\n",
       "    </tr>\n",
       "    <tr>\n",
       "      <th>684</th>\n",
       "      <td>-0.634952</td>\n",
       "      <td>-0.636626</td>\n",
       "    </tr>\n",
       "  </tbody>\n",
       "</table>\n",
       "<p>700 rows × 2 columns</p>\n",
       "</div>"
      ],
      "text/plain": [
       "         yhat         y\n",
       "105 -0.567481 -0.569472\n",
       "68  -0.297046 -0.300194\n",
       "479 -0.991102 -0.991262\n",
       "399  1.074916  1.079546\n",
       "434  0.480527  0.479785\n",
       "..        ...       ...\n",
       "835 -0.206587 -0.210131\n",
       "192  1.077789  1.082407\n",
       "629  1.432151  1.439324\n",
       "559  0.294727  0.291984\n",
       "684 -0.634952 -0.636626\n",
       "\n",
       "[700 rows x 2 columns]"
      ]
     },
     "execution_count": 49,
     "metadata": {},
     "output_type": "execute_result"
    }
   ],
   "source": [
    "yhat = model.predict(X_train)\n",
    "pd.DataFrame({\"yhat\": yhat[:, 0], 'y': y_train})"
   ]
  },
  {
   "cell_type": "code",
   "execution_count": 50,
   "id": "28674dc3",
   "metadata": {},
   "outputs": [
    {
     "data": {
      "text/plain": [
       "0.047168482513943844"
      ]
     },
     "execution_count": 50,
     "metadata": {},
     "output_type": "execute_result"
    }
   ],
   "source": [
    "rmse = root_mean_squared_error(y_train, yhat)\n",
    "rmse"
   ]
  },
  {
   "cell_type": "code",
   "execution_count": 51,
   "id": "5b29b6ac",
   "metadata": {},
   "outputs": [
    {
     "name": "stdout",
     "output_type": "stream",
     "text": [
      "10/10 [==============================] - 0s 4ms/step\n"
     ]
    },
    {
     "data": {
      "text/html": [
       "<div>\n",
       "<style scoped>\n",
       "    .dataframe tbody tr th:only-of-type {\n",
       "        vertical-align: middle;\n",
       "    }\n",
       "\n",
       "    .dataframe tbody tr th {\n",
       "        vertical-align: top;\n",
       "    }\n",
       "\n",
       "    .dataframe thead th {\n",
       "        text-align: right;\n",
       "    }\n",
       "</style>\n",
       "<table border=\"1\" class=\"dataframe\">\n",
       "  <thead>\n",
       "    <tr style=\"text-align: right;\">\n",
       "      <th></th>\n",
       "      <th>yhat</th>\n",
       "      <th>y</th>\n",
       "    </tr>\n",
       "  </thead>\n",
       "  <tbody>\n",
       "    <tr>\n",
       "      <th>993</th>\n",
       "      <td>1.679412</td>\n",
       "      <td>1.688386</td>\n",
       "    </tr>\n",
       "    <tr>\n",
       "      <th>859</th>\n",
       "      <td>0.924583</td>\n",
       "      <td>0.928131</td>\n",
       "    </tr>\n",
       "    <tr>\n",
       "      <th>298</th>\n",
       "      <td>1.670638</td>\n",
       "      <td>1.679519</td>\n",
       "    </tr>\n",
       "    <tr>\n",
       "      <th>553</th>\n",
       "      <td>-0.829916</td>\n",
       "      <td>-0.830762</td>\n",
       "    </tr>\n",
       "    <tr>\n",
       "      <th>672</th>\n",
       "      <td>0.313543</td>\n",
       "      <td>0.311011</td>\n",
       "    </tr>\n",
       "    <tr>\n",
       "      <th>...</th>\n",
       "      <td>...</td>\n",
       "      <td>...</td>\n",
       "    </tr>\n",
       "    <tr>\n",
       "      <th>167</th>\n",
       "      <td>0.582595</td>\n",
       "      <td>0.582970</td>\n",
       "    </tr>\n",
       "    <tr>\n",
       "      <th>998</th>\n",
       "      <td>-0.626783</td>\n",
       "      <td>-0.628522</td>\n",
       "    </tr>\n",
       "    <tr>\n",
       "      <th>984</th>\n",
       "      <td>0.592200</td>\n",
       "      <td>0.592680</td>\n",
       "    </tr>\n",
       "    <tr>\n",
       "      <th>491</th>\n",
       "      <td>0.762386</td>\n",
       "      <td>0.764696</td>\n",
       "    </tr>\n",
       "    <tr>\n",
       "      <th>10</th>\n",
       "      <td>-0.623705</td>\n",
       "      <td>-0.625429</td>\n",
       "    </tr>\n",
       "  </tbody>\n",
       "</table>\n",
       "<p>300 rows × 2 columns</p>\n",
       "</div>"
      ],
      "text/plain": [
       "         yhat         y\n",
       "993  1.679412  1.688386\n",
       "859  0.924583  0.928131\n",
       "298  1.670638  1.679519\n",
       "553 -0.829916 -0.830762\n",
       "672  0.313543  0.311011\n",
       "..        ...       ...\n",
       "167  0.582595  0.582970\n",
       "998 -0.626783 -0.628522\n",
       "984  0.592200  0.592680\n",
       "491  0.762386  0.764696\n",
       "10  -0.623705 -0.625429\n",
       "\n",
       "[300 rows x 2 columns]"
      ]
     },
     "execution_count": 51,
     "metadata": {},
     "output_type": "execute_result"
    }
   ],
   "source": [
    "yhat_test = model.predict(X_test)\n",
    "pd.DataFrame({\"yhat\": yhat_test[:, 0], 'y': y_test})"
   ]
  },
  {
   "cell_type": "code",
   "execution_count": 52,
   "id": "e434347d",
   "metadata": {},
   "outputs": [
    {
     "data": {
      "text/plain": [
       "0.06464054098935867"
      ]
     },
     "execution_count": 52,
     "metadata": {},
     "output_type": "execute_result"
    }
   ],
   "source": [
    "rmse = root_mean_squared_error(y_test, yhat_test)\n",
    "rmse"
   ]
  },
  {
   "cell_type": "code",
   "execution_count": 53,
   "id": "f174b648",
   "metadata": {},
   "outputs": [
    {
     "data": {
      "image/png": "[encoded data removed]",
      "text/plain": [
       "<Figure size 640x480 with 1 Axes>"
      ]
     },
     "metadata": {},
     "output_type": "display_data"
    }
   ],
   "source": [
    "plt.plot(y_train, yhat, '.b')\n",
    "plt.plot(np.arange(-3, 3, 0.01), np.arange(-3, 3, 0.01), '--r')\n",
    "plt.xlabel(\"y\")\n",
    "plt.ylabel(\"yhat\")\n",
    "plt.show()"
   ]
  },
  {
   "cell_type": "code",
   "execution_count": 54,
   "id": "545b06a7",
   "metadata": {},
   "outputs": [
    {
     "data": {
      "image/png": "[encoded data removed]",
      "text/plain": [
       "<Figure size 640x480 with 1 Axes>"
      ]
     },
     "metadata": {},
     "output_type": "display_data"
    }
   ],
   "source": [
    "plt.plot(y_test, yhat_test, '.b')\n",
    "plt.plot(np.arange(-3, 3, 0.01), np.arange(-3, 3, 0.01), '--r')\n",
    "plt.xlabel(\"y\")\n",
    "plt.ylabel(\"yhat\")\n",
    "plt.show()"
   ]
  },
  {
   "cell_type": "code",
   "execution_count": null,
   "id": "54438c33",
   "metadata": {},
   "outputs": [],
   "source": []
  }
 ],
 "metadata": {
  "kernelspec": {
   "display_name": "base",
   "language": "python",
   "name": "python3"
  },
  "language_info": {
   "codemirror_mode": {
    "name": "ipython",
    "version": 3
   },
   "file_extension": ".py",
   "mimetype": "text/x-python",
   "name": "python",
   "nbconvert_exporter": "python",
   "pygments_lexer": "ipython3",
   "version": "3.11.5"
  }
 },
 "nbformat": 4,
 "nbformat_minor": 5
}
